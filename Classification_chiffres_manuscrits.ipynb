{
 "cells": [
  {
   "cell_type": "markdown",
   "id": "5d23118a",
   "metadata": {},
   "source": [
    "# <center>Classification des chiffres manuscrites</center>"
   ]
  },
  {
   "cell_type": "markdown",
   "id": "baa2773e",
   "metadata": {},
   "source": [
    "## Partie 1 : Base de données, Analyse et Préparation"
   ]
  },
  {
   "cell_type": "code",
   "execution_count": 1,
   "id": "5d8822a1",
   "metadata": {},
   "outputs": [],
   "source": [
    "import os\n",
    "import struct\n",
    "import sys\n",
    "import numpy as np\n",
    "import cv2\n",
    "from sklearn.model_selection import train_test_split\n",
    "from PIL import Image \n",
    "import matplotlib.pyplot as plt"
   ]
  },
  {
   "cell_type": "markdown",
   "id": "eecc6653",
   "metadata": {},
   "source": [
    "## Dossier \"training\""
   ]
  },
  {
   "cell_type": "code",
   "execution_count": 2,
   "id": "dae5c851",
   "metadata": {},
   "outputs": [
    {
     "name": "stderr",
     "output_type": "stream",
     "text": [
      "100%|██████████████████████████████████████████████████████████████████████████████████| 10/10 [00:31<00:00,  3.15s/it]\n"
     ]
    }
   ],
   "source": [
    "from tqdm import tqdm\n",
    "\n",
    "directory = \".\\\\data\\\\MNIST_Dataset_JPG_format\\\\MNIST_JPG_training\\\\\"\n",
    "\n",
    "liste_images = []\n",
    "# liste pour enregistrer les labels\n",
    "labels_train = []\n",
    "# l va servir à numéroter les labels : dans la boucle, l s'incrémente de 1 à chaque passage \n",
    "l = -1\n",
    "\n",
    "\n",
    "for x in tqdm(os.listdir(directory)):\n",
    "    # incrémentation de l\n",
    "    l = l +1\n",
    "    for y in os.listdir(directory + x +\"\\\\\"):\n",
    "        image = cv2.imread(directory + x +\"\\\\\"+y)\n",
    "        liste_images.append(image)\n",
    "        labels_train.append(l)"
   ]
  },
  {
   "cell_type": "code",
   "execution_count": 3,
   "id": "80a53f1b",
   "metadata": {},
   "outputs": [
    {
     "data": {
      "text/plain": [
       "['0', '1', '2', '3', '4', '5', '6', '7', '8', '9']"
      ]
     },
     "execution_count": 3,
     "metadata": {},
     "output_type": "execute_result"
    }
   ],
   "source": [
    "# liste des dossiers\n",
    "os.listdir(directory)"
   ]
  },
  {
   "cell_type": "markdown",
   "id": "aefdb96e",
   "metadata": {},
   "source": [
    "## Informations"
   ]
  },
  {
   "cell_type": "code",
   "execution_count": 4,
   "id": "30e75096",
   "metadata": {},
   "outputs": [
    {
     "name": "stdout",
     "output_type": "stream",
     "text": [
      "classe : <class 'numpy.ndarray'>\n",
      "type : uint8\n",
      "taille : (60000, 28, 28, 3)\n",
      "modifiable : True\n"
     ]
    }
   ],
   "source": [
    "liste_images = np.array(liste_images)\n",
    "\n",
    "print( 'classe :', type(liste_images) )\n",
    "print( 'type :', liste_images.dtype )\n",
    "print( 'taille :', liste_images.shape )\n",
    "print( 'modifiable :', liste_images.flags.writeable )"
   ]
  },
  {
   "cell_type": "code",
   "execution_count": 5,
   "id": "ae415966",
   "metadata": {},
   "outputs": [
    {
     "data": {
      "image/png": "[encoded data removed]",
      "text/plain": [
       "<Figure size 432x288 with 1 Axes>"
      ]
     },
     "metadata": {
      "needs_background": "light"
     },
     "output_type": "display_data"
    }
   ],
   "source": [
    "plt.imshow( liste_images[1] )\n",
    "plt.show()"
   ]
  },
  {
   "cell_type": "markdown",
   "id": "0a25e2c2",
   "metadata": {},
   "source": [
    "## Nuance de Gris"
   ]
  },
  {
   "cell_type": "code",
   "execution_count": 6,
   "id": "24f7ee3e",
   "metadata": {},
   "outputs": [
    {
     "data": {
      "image/png": "[encoded data removed]",
      "text/plain": [
       "<Figure size 432x288 with 1 Axes>"
      ]
     },
     "metadata": {
      "needs_background": "light"
     },
     "output_type": "display_data"
    }
   ],
   "source": [
    "grey_image = cv2.cvtColor(liste_images[1], cv2.COLOR_RGB2GRAY)\n",
    "plt.imshow(grey_image, cmap = 'Greys_r')\n",
    "plt.show()"
   ]
  },
  {
   "cell_type": "code",
   "execution_count": 7,
   "id": "51433b42",
   "metadata": {},
   "outputs": [
    {
     "name": "stderr",
     "output_type": "stream",
     "text": [
      "100%|████████████████████████████████████████████████████████████████████████| 60000/60000 [00:00<00:00, 102495.76it/s]\n"
     ]
    }
   ],
   "source": [
    "liste_gris = []\n",
    "\n",
    "for x in tqdm(liste_images):\n",
    "    grey_image = cv2.cvtColor(x, cv2.COLOR_RGB2GRAY)\n",
    "    liste_gris.append(grey_image)\n",
    "        "
   ]
  },
  {
   "cell_type": "code",
   "execution_count": 8,
   "id": "8a1832ca",
   "metadata": {},
   "outputs": [
    {
     "data": {
      "image/png": "[encoded data removed]",
      "text/plain": [
       "<Figure size 432x288 with 1 Axes>"
      ]
     },
     "metadata": {
      "needs_background": "light"
     },
     "output_type": "display_data"
    }
   ],
   "source": [
    "plt.imshow(liste_gris[1])\n",
    "plt.show()"
   ]
  },
  {
   "cell_type": "code",
   "execution_count": 9,
   "id": "d0f2655c",
   "metadata": {},
   "outputs": [
    {
     "data": {
      "text/plain": [
       "(28, 28)"
      ]
     },
     "execution_count": 9,
     "metadata": {},
     "output_type": "execute_result"
    }
   ],
   "source": [
    "liste_gris[1].shape"
   ]
  },
  {
   "cell_type": "code",
   "execution_count": 10,
   "id": "1c4e00dc",
   "metadata": {},
   "outputs": [
    {
     "data": {
      "image/png": "[encoded data removed]",
      "text/plain": [
       "<Figure size 432x288 with 1 Axes>"
      ]
     },
     "metadata": {
      "needs_background": "light"
     },
     "output_type": "display_data"
    }
   ],
   "source": [
    "plt.imshow(liste_gris[1], cmap = 'Greys_r')\n",
    "plt.show()"
   ]
  },
  {
   "cell_type": "markdown",
   "id": "72d07d2f",
   "metadata": {},
   "source": [
    "## Dossier \"testing\""
   ]
  },
  {
   "cell_type": "code",
   "execution_count": 11,
   "id": "7cd10dc0",
   "metadata": {},
   "outputs": [
    {
     "name": "stderr",
     "output_type": "stream",
     "text": [
      "100%|██████████████████████████████████████████████████████████████████████████████████| 10/10 [00:06<00:00,  1.52it/s]\n"
     ]
    }
   ],
   "source": [
    "directory = \".\\\\data\\\\MNIST_Dataset_JPG_format\\\\MNIST_JPG_testing\\\\\"\n",
    "\n",
    "liste_images_test = []\n",
    "# liste pour enregistrer les labels\n",
    "labels_test = []\n",
    "# l va servir à numéroter les labels : dans la boucle, l s'incrémente de 1 à chaque passage \n",
    "l = -1\n",
    "\n",
    "\n",
    "for x in tqdm(os.listdir(directory)):\n",
    "    # incrémentation de l\n",
    "    l = l +1\n",
    "    for y in os.listdir(directory + x +\"\\\\\"):\n",
    "        image = cv2.imread(directory + x +\"\\\\\"+y)\n",
    "        liste_images_test.append(image)\n",
    "        labels_test.append(l)"
   ]
  },
  {
   "cell_type": "code",
   "execution_count": 12,
   "id": "fea4801d",
   "metadata": {},
   "outputs": [
    {
     "data": {
      "text/plain": [
       "['0', '1', '2', '3', '4', '5', '6', '7', '8', '9']"
      ]
     },
     "execution_count": 12,
     "metadata": {},
     "output_type": "execute_result"
    }
   ],
   "source": [
    "# liste des dossiers\n",
    "os.listdir(directory)"
   ]
  },
  {
   "cell_type": "code",
   "execution_count": 13,
   "id": "d4f8908c",
   "metadata": {},
   "outputs": [
    {
     "name": "stdout",
     "output_type": "stream",
     "text": [
      "classe : <class 'numpy.ndarray'>\n",
      "type : uint8\n",
      "taille : (10000, 28, 28, 3)\n",
      "modifiable : True\n"
     ]
    }
   ],
   "source": [
    "liste_images_test = np.array(liste_images_test)\n",
    "\n",
    "print( 'classe :', type(liste_images_test) )\n",
    "print( 'type :', liste_images_test.dtype )\n",
    "print( 'taille :', liste_images_test.shape )\n",
    "print( 'modifiable :', liste_images_test.flags.writeable )"
   ]
  },
  {
   "cell_type": "code",
   "execution_count": 14,
   "id": "54954fe7",
   "metadata": {},
   "outputs": [
    {
     "name": "stderr",
     "output_type": "stream",
     "text": [
      "100%|█████████████████████████████████████████████████████████████████████████| 10000/10000 [00:00<00:00, 74628.03it/s]\n"
     ]
    }
   ],
   "source": [
    "liste_gris_test = []\n",
    "\n",
    "for x in tqdm(liste_images_test):\n",
    "    grey_image = cv2.cvtColor(x, cv2.COLOR_RGB2GRAY)\n",
    "    liste_gris_test.append(grey_image)"
   ]
  },
  {
   "cell_type": "code",
   "execution_count": 15,
   "id": "03aee581",
   "metadata": {},
   "outputs": [
    {
     "data": {
      "image/png": "[encoded data removed]",
      "text/plain": [
       "<Figure size 432x288 with 1 Axes>"
      ]
     },
     "metadata": {
      "needs_background": "light"
     },
     "output_type": "display_data"
    }
   ],
   "source": [
    "plt.imshow(liste_gris_test[1])\n",
    "plt.show()"
   ]
  },
  {
   "cell_type": "code",
   "execution_count": 16,
   "id": "95229341",
   "metadata": {},
   "outputs": [
    {
     "data": {
      "text/plain": [
       "(28, 28)"
      ]
     },
     "execution_count": 16,
     "metadata": {},
     "output_type": "execute_result"
    }
   ],
   "source": [
    "liste_gris_test[1].shape"
   ]
  },
  {
   "cell_type": "markdown",
   "id": "8e8da32b",
   "metadata": {},
   "source": [
    "---"
   ]
  },
  {
   "cell_type": "markdown",
   "id": "c2f71816",
   "metadata": {},
   "source": [
    "## Partie 2 : Architecture CNN sur Tensorflow"
   ]
  },
  {
   "cell_type": "code",
   "execution_count": 17,
   "id": "5e453716",
   "metadata": {},
   "outputs": [],
   "source": [
    "import tensorflow as tf\n",
    "from tensorflow.keras import datasets, layers, models\n",
    "import matplotlib.pyplot as plt"
   ]
  },
  {
   "cell_type": "code",
   "execution_count": 18,
   "id": "5e182f23",
   "metadata": {},
   "outputs": [
    {
     "name": "stdout",
     "output_type": "stream",
     "text": [
      "classe : <class 'numpy.ndarray'>\n",
      "type : uint8\n",
      "taille : (60000, 28, 28)\n",
      "modifiable : True\n"
     ]
    }
   ],
   "source": [
    "liste_gris_train = np.array(liste_gris)\n",
    "\n",
    "print( 'classe :', type(liste_gris_train) )\n",
    "print( 'type :', liste_gris_train.dtype )\n",
    "print( 'taille :', liste_gris_train.shape )\n",
    "print( 'modifiable :', liste_gris_train.flags.writeable )"
   ]
  },
  {
   "cell_type": "code",
   "execution_count": 185,
   "id": "e913498e",
   "metadata": {},
   "outputs": [
    {
     "name": "stdout",
     "output_type": "stream",
     "text": [
      "classe : <class 'numpy.ndarray'>\n",
      "type : uint8\n",
      "taille : (10000, 28, 28)\n",
      "modifiable : True\n"
     ]
    }
   ],
   "source": [
    "liste_gris_test = np.array(liste_gris_test)\n",
    "\n",
    "print( 'classe :', type(liste_gris_test) )\n",
    "print( 'type :', liste_gris_test.dtype )\n",
    "print( 'taille :', liste_gris_test.shape )\n",
    "print( 'modifiable :', liste_gris_test.flags.writeable )"
   ]
  },
  {
   "cell_type": "code",
   "execution_count": 19,
   "id": "2736b878",
   "metadata": {},
   "outputs": [
    {
     "ename": "TypeError",
     "evalue": "unsupported operand type(s) for /: 'list' and 'float'",
     "output_type": "error",
     "traceback": [
      "\u001b[1;31m---------------------------------------------------------------------------\u001b[0m",
      "\u001b[1;31mTypeError\u001b[0m                                 Traceback (most recent call last)",
      "\u001b[1;32m<ipython-input-19-359350b9036b>\u001b[0m in \u001b[0;36m<module>\u001b[1;34m\u001b[0m\n\u001b[0;32m      1\u001b[0m \u001b[1;31m# Normalisation pixel (entre 0 et 1)\u001b[0m\u001b[1;33m\u001b[0m\u001b[1;33m\u001b[0m\u001b[1;33m\u001b[0m\u001b[0m\n\u001b[1;32m----> 2\u001b[1;33m \u001b[0mtrain_images\u001b[0m\u001b[1;33m,\u001b[0m \u001b[0mtest_images\u001b[0m \u001b[1;33m=\u001b[0m \u001b[0mliste_gris_train\u001b[0m \u001b[1;33m/\u001b[0m \u001b[1;36m255.0\u001b[0m\u001b[1;33m,\u001b[0m \u001b[0mliste_gris_test\u001b[0m \u001b[1;33m/\u001b[0m \u001b[1;36m255.0\u001b[0m\u001b[1;33m\u001b[0m\u001b[1;33m\u001b[0m\u001b[0m\n\u001b[0m",
      "\u001b[1;31mTypeError\u001b[0m: unsupported operand type(s) for /: 'list' and 'float'"
     ]
    }
   ],
   "source": [
    "# Normalisation pixel (entre 0 et 1)\n",
    "train_images, test_images = liste_gris_train / 255.0, liste_gris_test / 255.0"
   ]
  },
  {
   "cell_type": "code",
   "execution_count": null,
   "id": "94650de6",
   "metadata": {},
   "outputs": [],
   "source": [
    "class_names = [\"0\", \"1\", \"2\", \"3\", \"4\", \"5\", \"6\", \"7\", \"8\", \"9\"]\n",
    "\n",
    "plt.figure(figsize=(10,10))\n",
    "\n",
    "for i in range(25):\n",
    "    plt.subplot(5,5,i+1)\n",
    "    plt.xticks([])\n",
    "    plt.yticks([])\n",
    "    plt.grid(False)\n",
    "    plt.imshow(liste_gris_train[i])\n",
    "    # The CIFAR labels happen to be arrays, \n",
    "    # which is why you need the extra index\n",
    "    plt.xlabel(class_names[labels_train[i]])\n",
    "    \n",
    "plt.show()"
   ]
  },
  {
   "cell_type": "code",
   "execution_count": 20,
   "id": "1d211773",
   "metadata": {},
   "outputs": [],
   "source": [
    "model = models.Sequential()\n",
    "model.add(layers.Conv2D(28, (3, 3), activation='relu', input_shape=(28, 28, 3)))\n",
    "model.add(layers.MaxPooling2D((2, 2)))\n",
    "model.add(layers.Conv2D(64, (3, 3), activation='relu'))\n",
    "model.add(layers.MaxPooling2D((2, 2)))\n",
    "model.add(layers.Conv2D(64, (3, 3), activation='relu'))"
   ]
  },
  {
   "cell_type": "code",
   "execution_count": 21,
   "id": "af7024a2",
   "metadata": {},
   "outputs": [
    {
     "name": "stdout",
     "output_type": "stream",
     "text": [
      "Model: \"sequential\"\n",
      "_________________________________________________________________\n",
      " Layer (type)                Output Shape              Param #   \n",
      "=================================================================\n",
      " conv2d (Conv2D)             (None, 26, 26, 28)        784       \n",
      "                                                                 \n",
      " max_pooling2d (MaxPooling2D  (None, 13, 13, 28)       0         \n",
      " )                                                               \n",
      "                                                                 \n",
      " conv2d_1 (Conv2D)           (None, 11, 11, 64)        16192     \n",
      "                                                                 \n",
      " max_pooling2d_1 (MaxPooling  (None, 5, 5, 64)         0         \n",
      " 2D)                                                             \n",
      "                                                                 \n",
      " conv2d_2 (Conv2D)           (None, 3, 3, 64)          36928     \n",
      "                                                                 \n",
      "=================================================================\n",
      "Total params: 53,904\n",
      "Trainable params: 53,904\n",
      "Non-trainable params: 0\n",
      "_________________________________________________________________\n"
     ]
    }
   ],
   "source": [
    "model.summary()"
   ]
  },
  {
   "cell_type": "code",
   "execution_count": 22,
   "id": "085d0dce",
   "metadata": {},
   "outputs": [],
   "source": [
    "model.add(layers.Flatten())\n",
    "model.add(layers.Dense(64, activation='relu'))\n",
    "model.add(layers.Dense(10))"
   ]
  },
  {
   "cell_type": "code",
   "execution_count": 23,
   "id": "0a7bc565",
   "metadata": {},
   "outputs": [
    {
     "name": "stdout",
     "output_type": "stream",
     "text": [
      "Model: \"sequential\"\n",
      "_________________________________________________________________\n",
      " Layer (type)                Output Shape              Param #   \n",
      "=================================================================\n",
      " conv2d (Conv2D)             (None, 26, 26, 28)        784       \n",
      "                                                                 \n",
      " max_pooling2d (MaxPooling2D  (None, 13, 13, 28)       0         \n",
      " )                                                               \n",
      "                                                                 \n",
      " conv2d_1 (Conv2D)           (None, 11, 11, 64)        16192     \n",
      "                                                                 \n",
      " max_pooling2d_1 (MaxPooling  (None, 5, 5, 64)         0         \n",
      " 2D)                                                             \n",
      "                                                                 \n",
      " conv2d_2 (Conv2D)           (None, 3, 3, 64)          36928     \n",
      "                                                                 \n",
      " flatten (Flatten)           (None, 576)               0         \n",
      "                                                                 \n",
      " dense (Dense)               (None, 64)                36928     \n",
      "                                                                 \n",
      " dense_1 (Dense)             (None, 10)                650       \n",
      "                                                                 \n",
      "=================================================================\n",
      "Total params: 91,482\n",
      "Trainable params: 91,482\n",
      "Non-trainable params: 0\n",
      "_________________________________________________________________\n"
     ]
    }
   ],
   "source": [
    "model.summary()"
   ]
  },
  {
   "cell_type": "code",
   "execution_count": 24,
   "id": "cae48534",
   "metadata": {},
   "outputs": [
    {
     "name": "stdout",
     "output_type": "stream",
     "text": [
      "(60000, 28, 28)\n"
     ]
    },
    {
     "ename": "AttributeError",
     "evalue": "'list' object has no attribute 'shape'",
     "output_type": "error",
     "traceback": [
      "\u001b[1;31m---------------------------------------------------------------------------\u001b[0m",
      "\u001b[1;31mAttributeError\u001b[0m                            Traceback (most recent call last)",
      "\u001b[1;32m<ipython-input-24-de5ea3a26853>\u001b[0m in \u001b[0;36m<module>\u001b[1;34m\u001b[0m\n\u001b[0;32m      6\u001b[0m \u001b[1;33m\u001b[0m\u001b[0m\n\u001b[0;32m      7\u001b[0m \u001b[0mprint\u001b[0m\u001b[1;33m(\u001b[0m\u001b[0mliste_gris_train\u001b[0m\u001b[1;33m.\u001b[0m\u001b[0mshape\u001b[0m\u001b[1;33m)\u001b[0m\u001b[1;33m\u001b[0m\u001b[1;33m\u001b[0m\u001b[0m\n\u001b[1;32m----> 8\u001b[1;33m \u001b[0mprint\u001b[0m\u001b[1;33m(\u001b[0m\u001b[0mliste_gris_test\u001b[0m\u001b[1;33m.\u001b[0m\u001b[0mshape\u001b[0m\u001b[1;33m)\u001b[0m\u001b[1;33m\u001b[0m\u001b[1;33m\u001b[0m\u001b[0m\n\u001b[0m",
      "\u001b[1;31mAttributeError\u001b[0m: 'list' object has no attribute 'shape'"
     ]
    }
   ],
   "source": [
    "labels_test= np.array(labels_test)\n",
    "labels_train = np.array(labels_train)\n",
    "\n",
    "labels_test.shape\n",
    "labels_train.shape\n",
    "\n",
    "print(liste_gris_train.shape)\n",
    "print(liste_gris_test.shape)"
   ]
  },
  {
   "cell_type": "code",
   "execution_count": 248,
   "id": "c1626737",
   "metadata": {},
   "outputs": [],
   "source": [
    "X_train = tf.expand_dims(liste_gris_train, axis=-1)"
   ]
  },
  {
   "cell_type": "code",
   "execution_count": 241,
   "id": "2947a7ba",
   "metadata": {},
   "outputs": [],
   "source": [
    "X_test = tf.expand_dims(liste_gris_train, axis=-1)"
   ]
  },
  {
   "cell_type": "code",
   "execution_count": 243,
   "id": "2a19e68f",
   "metadata": {},
   "outputs": [],
   "source": [
    "y_test = tf.expand_dims(liste_gris_train, axis=-1)"
   ]
  },
  {
   "cell_type": "code",
   "execution_count": 244,
   "id": "ae769ca9",
   "metadata": {},
   "outputs": [],
   "source": [
    "y_train = tf.expand_dims(liste_gris_train, axis=-1)"
   ]
  },
  {
   "cell_type": "code",
   "execution_count": 249,
   "id": "07a8a0fb",
   "metadata": {},
   "outputs": [
    {
     "data": {
      "text/plain": [
       "TensorShape([60000, 1, 28, 28])"
      ]
     },
     "execution_count": 249,
     "metadata": {},
     "output_type": "execute_result"
    }
   ],
   "source": [
    "X_train.shape"
   ]
  },
  {
   "cell_type": "code",
   "execution_count": 250,
   "id": "53fc09b9",
   "metadata": {},
   "outputs": [
    {
     "name": "stdout",
     "output_type": "stream",
     "text": [
      "Epoch 1/10\n",
      "WARNING:tensorflow:Model was constructed with shape (None, 28, 28, 3) for input KerasTensor(type_spec=TensorSpec(shape=(None, 28, 28, 3), dtype=tf.float32, name='conv2d_25_input'), name='conv2d_25_input', description=\"created by layer 'conv2d_25_input'\"), but it was called on an input with incompatible shape (32, 28, 28).\n"
     ]
    },
    {
     "ename": "ValueError",
     "evalue": "in user code:\n\n    File \"C:\\Users\\utilisateur\\anaconda3\\lib\\site-packages\\keras\\engine\\training.py\", line 1021, in train_function  *\n        return step_function(self, iterator)\n    File \"C:\\Users\\utilisateur\\anaconda3\\lib\\site-packages\\keras\\engine\\training.py\", line 1010, in step_function  **\n        outputs = model.distribute_strategy.run(run_step, args=(data,))\n    File \"C:\\Users\\utilisateur\\anaconda3\\lib\\site-packages\\keras\\engine\\training.py\", line 1000, in run_step  **\n        outputs = model.train_step(data)\n    File \"C:\\Users\\utilisateur\\anaconda3\\lib\\site-packages\\keras\\engine\\training.py\", line 859, in train_step\n        y_pred = self(x, training=True)\n    File \"C:\\Users\\utilisateur\\anaconda3\\lib\\site-packages\\keras\\utils\\traceback_utils.py\", line 67, in error_handler\n        raise e.with_traceback(filtered_tb) from None\n    File \"C:\\Users\\utilisateur\\anaconda3\\lib\\site-packages\\keras\\engine\\input_spec.py\", line 228, in assert_input_compatibility\n        raise ValueError(f'Input {input_index} of layer \"{layer_name}\" '\n\n    ValueError: Exception encountered when calling layer \"sequential_9\" (type Sequential).\n    \n    Input 0 of layer \"conv2d_25\" is incompatible with the layer: expected min_ndim=4, found ndim=3. Full shape received: (32, 28, 28)\n    \n    Call arguments received:\n      • inputs=tf.Tensor(shape=(32, 28, 28), dtype=uint8)\n      • training=True\n      • mask=None\n",
     "output_type": "error",
     "traceback": [
      "\u001b[1;31m---------------------------------------------------------------------------\u001b[0m",
      "\u001b[1;31mValueError\u001b[0m                                Traceback (most recent call last)",
      "\u001b[1;32m<ipython-input-250-4dc6e35ebcba>\u001b[0m in \u001b[0;36m<module>\u001b[1;34m\u001b[0m\n\u001b[0;32m      3\u001b[0m               metrics=['accuracy'])\n\u001b[0;32m      4\u001b[0m \u001b[1;33m\u001b[0m\u001b[0m\n\u001b[1;32m----> 5\u001b[1;33m history = model.fit(liste_gris_train, labels_train, epochs=10, \n\u001b[0m\u001b[0;32m      6\u001b[0m                     validation_data=(liste_gris_test, labels_test))\n",
      "\u001b[1;32m~\\anaconda3\\lib\\site-packages\\keras\\utils\\traceback_utils.py\u001b[0m in \u001b[0;36merror_handler\u001b[1;34m(*args, **kwargs)\u001b[0m\n\u001b[0;32m     65\u001b[0m     \u001b[1;32mexcept\u001b[0m \u001b[0mException\u001b[0m \u001b[1;32mas\u001b[0m \u001b[0me\u001b[0m\u001b[1;33m:\u001b[0m  \u001b[1;31m# pylint: disable=broad-except\u001b[0m\u001b[1;33m\u001b[0m\u001b[1;33m\u001b[0m\u001b[0m\n\u001b[0;32m     66\u001b[0m       \u001b[0mfiltered_tb\u001b[0m \u001b[1;33m=\u001b[0m \u001b[0m_process_traceback_frames\u001b[0m\u001b[1;33m(\u001b[0m\u001b[0me\u001b[0m\u001b[1;33m.\u001b[0m\u001b[0m__traceback__\u001b[0m\u001b[1;33m)\u001b[0m\u001b[1;33m\u001b[0m\u001b[1;33m\u001b[0m\u001b[0m\n\u001b[1;32m---> 67\u001b[1;33m       \u001b[1;32mraise\u001b[0m \u001b[0me\u001b[0m\u001b[1;33m.\u001b[0m\u001b[0mwith_traceback\u001b[0m\u001b[1;33m(\u001b[0m\u001b[0mfiltered_tb\u001b[0m\u001b[1;33m)\u001b[0m \u001b[1;32mfrom\u001b[0m \u001b[1;32mNone\u001b[0m\u001b[1;33m\u001b[0m\u001b[1;33m\u001b[0m\u001b[0m\n\u001b[0m\u001b[0;32m     68\u001b[0m     \u001b[1;32mfinally\u001b[0m\u001b[1;33m:\u001b[0m\u001b[1;33m\u001b[0m\u001b[1;33m\u001b[0m\u001b[0m\n\u001b[0;32m     69\u001b[0m       \u001b[1;32mdel\u001b[0m \u001b[0mfiltered_tb\u001b[0m\u001b[1;33m\u001b[0m\u001b[1;33m\u001b[0m\u001b[0m\n",
      "\u001b[1;32m~\\anaconda3\\lib\\site-packages\\tensorflow\\python\\framework\\func_graph.py\u001b[0m in \u001b[0;36mautograph_handler\u001b[1;34m(*args, **kwargs)\u001b[0m\n\u001b[0;32m   1145\u001b[0m           \u001b[1;32mexcept\u001b[0m \u001b[0mException\u001b[0m \u001b[1;32mas\u001b[0m \u001b[0me\u001b[0m\u001b[1;33m:\u001b[0m  \u001b[1;31m# pylint:disable=broad-except\u001b[0m\u001b[1;33m\u001b[0m\u001b[1;33m\u001b[0m\u001b[0m\n\u001b[0;32m   1146\u001b[0m             \u001b[1;32mif\u001b[0m \u001b[0mhasattr\u001b[0m\u001b[1;33m(\u001b[0m\u001b[0me\u001b[0m\u001b[1;33m,\u001b[0m \u001b[1;34m\"ag_error_metadata\"\u001b[0m\u001b[1;33m)\u001b[0m\u001b[1;33m:\u001b[0m\u001b[1;33m\u001b[0m\u001b[1;33m\u001b[0m\u001b[0m\n\u001b[1;32m-> 1147\u001b[1;33m               \u001b[1;32mraise\u001b[0m \u001b[0me\u001b[0m\u001b[1;33m.\u001b[0m\u001b[0mag_error_metadata\u001b[0m\u001b[1;33m.\u001b[0m\u001b[0mto_exception\u001b[0m\u001b[1;33m(\u001b[0m\u001b[0me\u001b[0m\u001b[1;33m)\u001b[0m\u001b[1;33m\u001b[0m\u001b[1;33m\u001b[0m\u001b[0m\n\u001b[0m\u001b[0;32m   1148\u001b[0m             \u001b[1;32melse\u001b[0m\u001b[1;33m:\u001b[0m\u001b[1;33m\u001b[0m\u001b[1;33m\u001b[0m\u001b[0m\n\u001b[0;32m   1149\u001b[0m               \u001b[1;32mraise\u001b[0m\u001b[1;33m\u001b[0m\u001b[1;33m\u001b[0m\u001b[0m\n",
      "\u001b[1;31mValueError\u001b[0m: in user code:\n\n    File \"C:\\Users\\utilisateur\\anaconda3\\lib\\site-packages\\keras\\engine\\training.py\", line 1021, in train_function  *\n        return step_function(self, iterator)\n    File \"C:\\Users\\utilisateur\\anaconda3\\lib\\site-packages\\keras\\engine\\training.py\", line 1010, in step_function  **\n        outputs = model.distribute_strategy.run(run_step, args=(data,))\n    File \"C:\\Users\\utilisateur\\anaconda3\\lib\\site-packages\\keras\\engine\\training.py\", line 1000, in run_step  **\n        outputs = model.train_step(data)\n    File \"C:\\Users\\utilisateur\\anaconda3\\lib\\site-packages\\keras\\engine\\training.py\", line 859, in train_step\n        y_pred = self(x, training=True)\n    File \"C:\\Users\\utilisateur\\anaconda3\\lib\\site-packages\\keras\\utils\\traceback_utils.py\", line 67, in error_handler\n        raise e.with_traceback(filtered_tb) from None\n    File \"C:\\Users\\utilisateur\\anaconda3\\lib\\site-packages\\keras\\engine\\input_spec.py\", line 228, in assert_input_compatibility\n        raise ValueError(f'Input {input_index} of layer \"{layer_name}\" '\n\n    ValueError: Exception encountered when calling layer \"sequential_9\" (type Sequential).\n    \n    Input 0 of layer \"conv2d_25\" is incompatible with the layer: expected min_ndim=4, found ndim=3. Full shape received: (32, 28, 28)\n    \n    Call arguments received:\n      • inputs=tf.Tensor(shape=(32, 28, 28), dtype=uint8)\n      • training=True\n      • mask=None\n"
     ]
    }
   ],
   "source": [
    "model.compile(optimizer='adam',\n",
    "              loss=tf.keras.losses.SparseCategoricalCrossentropy(from_logits=True),\n",
    "              metrics=['accuracy'])\n",
    "\n",
    "history = model.fit(liste_gris_train, labels_train, epochs=10, \n",
    "                    validation_data=(liste_gris_test, labels_test))"
   ]
  },
  {
   "cell_type": "code",
   "execution_count": null,
   "id": "98947a9b",
   "metadata": {},
   "outputs": [],
   "source": []
  },
  {
   "cell_type": "code",
   "execution_count": null,
   "id": "928ca030",
   "metadata": {},
   "outputs": [],
   "source": []
  }
 ],
 "metadata": {
  "kernelspec": {
   "display_name": "Python 3",
   "language": "python",
   "name": "python3"
  },
  "language_info": {
   "codemirror_mode": {
    "name": "ipython",
    "version": 3
   },
   "file_extension": ".py",
   "mimetype": "text/x-python",
   "name": "python",
   "nbconvert_exporter": "python",
   "pygments_lexer": "ipython3",
   "version": "3.8.3"
  }
 },
 "nbformat": 4,
 "nbformat_minor": 5
}
