{
 "cells": [
  {
   "cell_type": "markdown",
   "id": "f2dea389",
   "metadata": {},
   "source": [
    "# <center>Classification des chiffres manuscrites</center>"
   ]
  },
  {
   "cell_type": "markdown",
   "id": "ffa38d84",
   "metadata": {},
   "source": [
    "## Partie 1 : Base de données, Analyse et Préparation"
   ]
  },
  {
   "cell_type": "code",
   "execution_count": 168,
   "id": "4ccac58e",
   "metadata": {},
   "outputs": [],
   "source": [
    "import os\n",
    "import struct\n",
    "import sys\n",
    "import numpy as np\n",
    "import cv2\n",
    "from sklearn.model_selection import train_test_split\n",
    "from PIL import Image \n",
    "import matplotlib.pyplot as plt"
   ]
  },
  {
   "cell_type": "markdown",
   "id": "8810ee5c",
   "metadata": {},
   "source": [
    "## Dossier \"training\""
   ]
  },
  {
   "cell_type": "code",
   "execution_count": 169,
   "id": "003e521a",
   "metadata": {},
   "outputs": [
    {
     "name": "stderr",
     "output_type": "stream",
     "text": [
      "100%|██████████████████████████████████████████████████████████████████████████████████| 10/10 [00:30<00:00,  3.00s/it]\n"
     ]
    }
   ],
   "source": [
    "from tqdm import tqdm\n",
    "\n",
    "directory = \".\\\\data\\\\MNIST_Dataset_JPG_format\\\\MNIST_JPG_training\\\\\"\n",
    "\n",
    "liste_images = []\n",
    "# liste pour enregistrer les labels\n",
    "labels_train = []\n",
    "# l va servir à numéroter les labels : dans la boucle, l s'incrémente de 1 à chaque passage \n",
    "l = -1\n",
    "\n",
    "\n",
    "for x in tqdm(os.listdir(directory)):\n",
    "    # incrémentation de l\n",
    "    l = l +1\n",
    "    for y in os.listdir(directory + x +\"\\\\\"):\n",
    "        image = cv2.imread(directory + x +\"\\\\\"+y)\n",
    "        liste_images.append(image)\n",
    "        labels_train.append(l)"
   ]
  },
  {
   "cell_type": "markdown",
   "id": "0e2406a0",
   "metadata": {},
   "source": [
    "## Informations"
   ]
  },
  {
   "cell_type": "code",
   "execution_count": 170,
   "id": "c3fe9cdf",
   "metadata": {},
   "outputs": [
    {
     "name": "stdout",
     "output_type": "stream",
     "text": [
      "classe : <class 'numpy.ndarray'>\n",
      "type : uint8\n",
      "taille : (60000, 28, 28, 3)\n",
      "modifiable : True\n"
     ]
    }
   ],
   "source": [
    "liste_images = np.array(liste_images)\n",
    "\n",
    "print( 'classe :', type(liste_images) )\n",
    "print( 'type :', liste_images.dtype )\n",
    "print( 'taille :', liste_images.shape )\n",
    "print( 'modifiable :', liste_images.flags.writeable )"
   ]
  },
  {
   "cell_type": "code",
   "execution_count": 138,
   "id": "d84a554a",
   "metadata": {},
   "outputs": [
    {
     "data": {
      "image/png": "[encoded data removed]",
      "text/plain": [
       "<Figure size 432x288 with 1 Axes>"
      ]
     },
     "metadata": {
      "needs_background": "light"
     },
     "output_type": "display_data"
    }
   ],
   "source": [
    "# plt.imshow( liste_images[1] )\n",
    "# plt.show()"
   ]
  },
  {
   "cell_type": "markdown",
   "id": "4de42001",
   "metadata": {},
   "source": [
    "## Nuance de Gris"
   ]
  },
  {
   "cell_type": "code",
   "execution_count": 139,
   "id": "034b2845",
   "metadata": {},
   "outputs": [
    {
     "data": {
      "image/png": "[encoded data removed]",
      "text/plain": [
       "<Figure size 432x288 with 1 Axes>"
      ]
     },
     "metadata": {
      "needs_background": "light"
     },
     "output_type": "display_data"
    }
   ],
   "source": [
    "grey_image = cv2.cvtColor(liste_images[1], cv2.COLOR_RGB2GRAY)\n",
    "plt.imshow(grey_image, cmap = 'Greys_r')\n",
    "plt.show()"
   ]
  },
  {
   "cell_type": "code",
   "execution_count": 140,
   "id": "6e6c8170",
   "metadata": {},
   "outputs": [
    {
     "name": "stderr",
     "output_type": "stream",
     "text": [
      "100%|████████████████████████████████████████████████████████████████████████| 60000/60000 [00:00<00:00, 149221.36it/s]\n"
     ]
    }
   ],
   "source": [
    "liste_gris = []\n",
    "\n",
    "for x in tqdm(liste_images):\n",
    "    grey_image = cv2.cvtColor(x, cv2.COLOR_RGB2GRAY)\n",
    "    liste_gris.append(grey_image)\n",
    "        "
   ]
  },
  {
   "cell_type": "code",
   "execution_count": 141,
   "id": "e6be2d66",
   "metadata": {},
   "outputs": [
    {
     "data": {
      "image/png": "[encoded data removed]",
      "text/plain": [
       "<Figure size 432x288 with 1 Axes>"
      ]
     },
     "metadata": {
      "needs_background": "light"
     },
     "output_type": "display_data"
    }
   ],
   "source": [
    "plt.imshow(liste_gris[1])\n",
    "plt.show()"
   ]
  },
  {
   "cell_type": "code",
   "execution_count": 142,
   "id": "fd9c921d",
   "metadata": {},
   "outputs": [
    {
     "data": {
      "text/plain": [
       "(28, 28)"
      ]
     },
     "execution_count": 142,
     "metadata": {},
     "output_type": "execute_result"
    }
   ],
   "source": [
    "liste_gris[1].shape"
   ]
  },
  {
   "cell_type": "code",
   "execution_count": 143,
   "id": "42fa300d",
   "metadata": {},
   "outputs": [
    {
     "data": {
      "image/png": "[encoded data removed]",
      "text/plain": [
       "<Figure size 432x288 with 1 Axes>"
      ]
     },
     "metadata": {
      "needs_background": "light"
     },
     "output_type": "display_data"
    }
   ],
   "source": [
    "plt.imshow(liste_gris[1], cmap = 'Greys_r')\n",
    "plt.show()"
   ]
  },
  {
   "cell_type": "markdown",
   "id": "311e6047",
   "metadata": {},
   "source": [
    "## Dossier \"testing\""
   ]
  },
  {
   "cell_type": "code",
   "execution_count": 144,
   "id": "99f42ece",
   "metadata": {},
   "outputs": [
    {
     "name": "stderr",
     "output_type": "stream",
     "text": [
      "100%|██████████████████████████████████████████████████████████████████████████████████| 10/10 [00:07<00:00,  1.27it/s]\n"
     ]
    }
   ],
   "source": [
    "directory = \".\\\\data\\\\MNIST_Dataset_JPG_format\\\\MNIST_JPG_testing\\\\\"\n",
    "\n",
    "liste_images_test = []\n",
    "# liste pour enregistrer les labels\n",
    "labels_test = []\n",
    "# l va servir à numéroter les labels : dans la boucle, l s'incrémente de 1 à chaque passage \n",
    "l = -1\n",
    "\n",
    "\n",
    "for x in tqdm(os.listdir(directory)):\n",
    "    # incrémentation de l\n",
    "    l = l +1\n",
    "    for y in os.listdir(directory + x +\"\\\\\"):\n",
    "        image = cv2.imread(directory + x +\"\\\\\"+y)\n",
    "        liste_images_test.append(image)\n",
    "        labels_test.append(l)"
   ]
  },
  {
   "cell_type": "code",
   "execution_count": 171,
   "id": "58fa891c",
   "metadata": {},
   "outputs": [
    {
     "name": "stdout",
     "output_type": "stream",
     "text": [
      "classe : <class 'numpy.ndarray'>\n",
      "type : uint8\n",
      "taille : (10000, 28, 28, 3)\n",
      "modifiable : True\n"
     ]
    }
   ],
   "source": [
    "liste_images_test = np.array(liste_images_test)\n",
    "\n",
    "print( 'classe :', type(liste_images_test) )\n",
    "print( 'type :', liste_images_test.dtype )\n",
    "print( 'taille :', liste_images_test.shape )\n",
    "print( 'modifiable :', liste_images_test.flags.writeable )"
   ]
  },
  {
   "cell_type": "code",
   "execution_count": 172,
   "id": "3194051c",
   "metadata": {},
   "outputs": [
    {
     "name": "stderr",
     "output_type": "stream",
     "text": [
      "100%|████████████████████████████████████████████████████████████████████████| 10000/10000 [00:00<00:00, 108704.94it/s]\n"
     ]
    }
   ],
   "source": [
    "liste_gris_test = []\n",
    "\n",
    "for x in tqdm(liste_images_test):\n",
    "    grey_image = cv2.cvtColor(x, cv2.COLOR_RGB2GRAY)\n",
    "    liste_gris_test.append(grey_image)"
   ]
  },
  {
   "cell_type": "code",
   "execution_count": 173,
   "id": "b97f484f",
   "metadata": {},
   "outputs": [],
   "source": [
    "# plt.imshow(liste_gris_test[1])\n",
    "# plt.show()"
   ]
  },
  {
   "cell_type": "code",
   "execution_count": 174,
   "id": "a3372a2f",
   "metadata": {},
   "outputs": [
    {
     "data": {
      "text/plain": [
       "(28, 28)"
      ]
     },
     "execution_count": 174,
     "metadata": {},
     "output_type": "execute_result"
    }
   ],
   "source": [
    "liste_gris_test[1].shape"
   ]
  },
  {
   "cell_type": "markdown",
   "id": "01d024b0",
   "metadata": {},
   "source": [
    "## Renommer les variables"
   ]
  },
  {
   "cell_type": "code",
   "execution_count": 175,
   "id": "bddc46e0",
   "metadata": {},
   "outputs": [],
   "source": [
    "# Normalisation des données\n",
    "X_train = liste_gris\n",
    "X_test = liste_gris_test\n",
    "y_train = labels_train\n",
    "y_test = labels_test\n"
   ]
  },
  {
   "cell_type": "markdown",
   "id": "9741da1d",
   "metadata": {},
   "source": [
    "---"
   ]
  },
  {
   "cell_type": "markdown",
   "id": "fa438f67",
   "metadata": {},
   "source": [
    "## Normalisation des données "
   ]
  },
  {
   "cell_type": "code",
   "execution_count": 176,
   "id": "e56bf9ac",
   "metadata": {},
   "outputs": [
    {
     "name": "stdout",
     "output_type": "stream",
     "text": [
      "classe : <class 'numpy.ndarray'>\n",
      "type : uint8\n",
      "taille : (60000, 28, 28)\n",
      "modifiable : True\n"
     ]
    }
   ],
   "source": [
    "X_train = np.array(X_train)\n",
    "\n",
    "print( 'classe :', type(X_train) )\n",
    "print( 'type :', X_train.dtype )\n",
    "print( 'taille :', X_train.shape )\n",
    "print( 'modifiable :', X_train.flags.writeable )"
   ]
  },
  {
   "cell_type": "code",
   "execution_count": 177,
   "id": "92441d07",
   "metadata": {},
   "outputs": [
    {
     "name": "stdout",
     "output_type": "stream",
     "text": [
      "classe : <class 'numpy.ndarray'>\n",
      "type : uint8\n",
      "taille : (10000, 28, 28)\n",
      "modifiable : True\n"
     ]
    }
   ],
   "source": [
    "X_test = np.array(X_test)\n",
    "\n",
    "print( 'classe :', type(X_test) )\n",
    "print( 'type :', X_test.dtype )\n",
    "print( 'taille :', X_test.shape )\n",
    "print( 'modifiable :', X_test.flags.writeable )"
   ]
  },
  {
   "cell_type": "code",
   "execution_count": 178,
   "id": "0c3c8e9a",
   "metadata": {},
   "outputs": [],
   "source": [
    "y_train = np.array(y_train)\n",
    "y_test = np.array(y_test)"
   ]
  },
  {
   "cell_type": "code",
   "execution_count": 179,
   "id": "eac693bd",
   "metadata": {},
   "outputs": [],
   "source": [
    "# Normalisation pixel (entre 0 et 1)\n",
    "X_train, X_test = X_train / 255.0, X_test / 255.0"
   ]
  },
  {
   "cell_type": "markdown",
   "id": "36a145f0",
   "metadata": {},
   "source": [
    "## Visualisation des données"
   ]
  },
  {
   "cell_type": "code",
   "execution_count": 180,
   "id": "29d0c197",
   "metadata": {},
   "outputs": [
    {
     "data": {
      "image/png": "[encoded data removed]",
      "text/plain": [
       "<Figure size 1440x288 with 10 Axes>"
      ]
     },
     "metadata": {
      "needs_background": "light"
     },
     "output_type": "display_data"
    }
   ],
   "source": [
    "# visualisation de quelques images\n",
    "fig, ax = plt.subplots(nrows=1, ncols=10, figsize=(20, 4))\n",
    "for i in range(10):\n",
    "  ax[i].imshow(X_train[i], cmap='gray')\n",
    "\n",
    "plt.tight_layout()\n",
    "plt.show()"
   ]
  },
  {
   "cell_type": "code",
   "execution_count": 181,
   "id": "7da3417a",
   "metadata": {},
   "outputs": [
    {
     "data": {
      "image/png": "[encoded data removed]",
      "text/plain": [
       "<Figure size 720x720 with 25 Axes>"
      ]
     },
     "metadata": {},
     "output_type": "display_data"
    }
   ],
   "source": [
    "class_names = [\"0\", \"1\", \"2\", \"3\", \"4\", \"5\", \"6\", \"7\", \"8\", \"9\"]\n",
    "\n",
    "plt.figure(figsize=(10,10))\n",
    "\n",
    "for i in range(25):\n",
    "    plt.subplot(5,5,i+1)\n",
    "    plt.xticks([])\n",
    "    plt.yticks([])\n",
    "    plt.grid(False)\n",
    "    plt.imshow(X_train[i])\n",
    "    # The CIFAR labels happen to be arrays, \n",
    "    # which is why you need the extra index\n",
    "    plt.xlabel(class_names[y_train[i]])\n",
    "    \n",
    "plt.show()"
   ]
  },
  {
   "cell_type": "markdown",
   "id": "3243bc96",
   "metadata": {},
   "source": [
    "---"
   ]
  },
  {
   "cell_type": "markdown",
   "id": "dfcec998",
   "metadata": {},
   "source": [
    "## Partie 2 : Architecture CNN sur Tensorflow"
   ]
  },
  {
   "cell_type": "code",
   "execution_count": 182,
   "id": "d394f0e7",
   "metadata": {},
   "outputs": [],
   "source": [
    "from tensorflow import keras\n",
    "\n",
    "# Configuration des couches du réseau\n",
    "model = keras.Sequential([\n",
    "    keras.layers.Flatten(input_shape=(28, 28)),\n",
    "    keras.layers.Dense(128, activation='relu'),\n",
    "    keras.layers.Dense(128, activation='relu'),\n",
    "    keras.layers.Dense(10)\n",
    "])"
   ]
  },
  {
   "cell_type": "code",
   "execution_count": 190,
   "id": "0e92023a",
   "metadata": {},
   "outputs": [
    {
     "name": "stdout",
     "output_type": "stream",
     "text": [
      "Epoch 1/10\n",
      "1875/1875 [==============================] - 6s 3ms/step - loss: 0.0102 - accuracy: 0.9969 - val_loss: 0.1660 - val_accuracy: 0.9739\n",
      "Epoch 2/10\n",
      "1875/1875 [==============================] - 5s 3ms/step - loss: 0.0090 - accuracy: 0.9973 - val_loss: 0.1370 - val_accuracy: 0.9807\n",
      "Epoch 3/10\n",
      "1875/1875 [==============================] - 5s 3ms/step - loss: 0.0107 - accuracy: 0.9971 - val_loss: 0.1349 - val_accuracy: 0.9792\n",
      "Epoch 4/10\n",
      "1875/1875 [==============================] - 5s 3ms/step - loss: 0.0111 - accuracy: 0.9969 - val_loss: 0.1387 - val_accuracy: 0.9785\n",
      "Epoch 5/10\n",
      "1875/1875 [==============================] - 5s 3ms/step - loss: 0.0099 - accuracy: 0.9970 - val_loss: 0.1358 - val_accuracy: 0.9794\n",
      "Epoch 6/10\n",
      "1875/1875 [==============================] - 5s 3ms/step - loss: 0.0073 - accuracy: 0.9978 - val_loss: 0.1532 - val_accuracy: 0.9778\n",
      "Epoch 7/10\n",
      "1875/1875 [==============================] - 5s 3ms/step - loss: 0.0098 - accuracy: 0.9971 - val_loss: 0.1467 - val_accuracy: 0.9792\n",
      "Epoch 8/10\n",
      "1875/1875 [==============================] - 5s 3ms/step - loss: 0.0080 - accuracy: 0.9976 - val_loss: 0.1487 - val_accuracy: 0.9803\n",
      "Epoch 9/10\n",
      "1875/1875 [==============================] - 5s 3ms/step - loss: 0.0080 - accuracy: 0.9974 - val_loss: 0.1572 - val_accuracy: 0.9801\n",
      "Epoch 10/10\n",
      "1875/1875 [==============================] - 5s 3ms/step - loss: 0.0064 - accuracy: 0.9977 - val_loss: 0.1733 - val_accuracy: 0.9777\n"
     ]
    }
   ],
   "source": [
    "# Compilation du modele\n",
    "model.compile(optimizer='adam',\n",
    "              loss= keras.losses.SparseCategoricalCrossentropy(from_logits=True),\n",
    "              metrics=['accuracy'])\n",
    "\n",
    "# Entrainement du modele\n",
    "history = model.fit(X_train, y_train, epochs=10,validation_data=(X_test, y_test))"
   ]
  },
  {
   "cell_type": "code",
   "execution_count": 191,
   "id": "1db1bcf5",
   "metadata": {},
   "outputs": [
    {
     "name": "stdout",
     "output_type": "stream",
     "text": [
      "313/313 [==============================] - 1s 2ms/step - loss: 0.1733 - accuracy: 0.9777\n",
      "Test accuracy: 0.9776999950408936\n"
     ]
    }
   ],
   "source": [
    "# Evaluation du modele\n",
    "test_loss, test_acc = model.evaluate(X_test,  y_test)\n",
    "print('Test accuracy:', test_acc)"
   ]
  },
  {
   "cell_type": "code",
   "execution_count": 193,
   "id": "6bb3c722",
   "metadata": {},
   "outputs": [
    {
     "name": "stdout",
     "output_type": "stream",
     "text": [
      "313/313 [==============================] - 1s 2ms/step - loss: 0.1733 - accuracy: 0.9777\n"
     ]
    },
    {
     "data": {
      "image/png": "[encoded data removed]",
      "text/plain": [
       "<Figure size 432x288 with 1 Axes>"
      ]
     },
     "metadata": {
      "needs_background": "light"
     },
     "output_type": "display_data"
    }
   ],
   "source": [
    "plt.plot(history.history['accuracy'], label='accuracy')\n",
    "plt.plot(history.history['val_accuracy'], label = 'val_accuracy')\n",
    "plt.xlabel('Epoch')\n",
    "plt.ylabel('Accuracy')\n",
    "plt.ylim([0.5, 1])\n",
    "plt.legend(loc='lower right')\n",
    "\n",
    "test_loss, test_acc = model.evaluate(X_test,  y_test)#, verbose=2)"
   ]
  },
  {
   "cell_type": "code",
   "execution_count": 194,
   "id": "04e06039",
   "metadata": {},
   "outputs": [
    {
     "name": "stdout",
     "output_type": "stream",
     "text": [
      "[0 0 0 0 0 0 0 0 0 0]\n",
      "[0 0 0 0 0 0 0 0 0 0]\n"
     ]
    }
   ],
   "source": [
    "# modele prédictif (softmax)\n",
    "prediction_model = keras.Sequential([model, keras.layers.Softmax()])\n",
    "predict_proba = prediction_model.predict(X_test)\n",
    "predictions = np.argmax(predict_proba, axis=1)\n",
    "\n",
    "print(predictions[:10])\n",
    "print(y_test[:10])"
   ]
  },
  {
   "cell_type": "markdown",
   "id": "194a4bf6",
   "metadata": {},
   "source": [
    "## Partie 3 : Application"
   ]
  },
  {
   "cell_type": "code",
   "execution_count": null,
   "id": "d7943e0f",
   "metadata": {},
   "outputs": [],
   "source": []
  }
 ],
 "metadata": {
  "kernelspec": {
   "display_name": "Python 3",
   "language": "python",
   "name": "python3"
  },
  "language_info": {
   "codemirror_mode": {
    "name": "ipython",
    "version": 3
   },
   "file_extension": ".py",
   "mimetype": "text/x-python",
   "name": "python",
   "nbconvert_exporter": "python",
   "pygments_lexer": "ipython3",
   "version": "3.8.3"
  }
 },
 "nbformat": 4,
 "nbformat_minor": 5
}
