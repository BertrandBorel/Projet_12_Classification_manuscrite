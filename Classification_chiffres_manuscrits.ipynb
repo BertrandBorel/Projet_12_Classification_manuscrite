{
 "cells": [
  {
   "cell_type": "markdown",
   "id": "8b122289",
   "metadata": {},
   "source": [
    "# <center>Classification des chiffres manuscrites</center>"
   ]
  },
  {
   "cell_type": "markdown",
   "id": "9dfed584",
   "metadata": {},
   "source": [
    "## Partie 1 : Base de données, Analyse et Préparation"
   ]
  },
  {
   "cell_type": "code",
   "execution_count": 17,
   "id": "e9ca615c",
   "metadata": {},
   "outputs": [],
   "source": [
    "import os\n",
    "import struct\n",
    "import sys\n",
    "import numpy as np\n",
    "import cv2\n",
    "from sklearn.model_selection import train_test_split\n",
    "from PIL import Image \n",
    "import matplotlib.pyplot as plt"
   ]
  },
  {
   "cell_type": "markdown",
   "id": "dca43cb9",
   "metadata": {},
   "source": [
    "## Dossier \"training\""
   ]
  },
  {
   "cell_type": "code",
   "execution_count": 18,
   "id": "2e04ba36",
   "metadata": {},
   "outputs": [
    {
     "name": "stderr",
     "output_type": "stream",
     "text": [
      "100%|██████████████████████████████████████████████████████████████████████████████████| 10/10 [00:30<00:00,  3.05s/it]\n"
     ]
    }
   ],
   "source": [
    "from tqdm import tqdm\n",
    "\n",
    "directory = \".\\\\data\\\\MNIST_Dataset_JPG_format\\\\MNIST_JPG_training\\\\\"\n",
    "\n",
    "X_train = []\n",
    "# liste pour enregistrer les labels\n",
    "y_train = []\n",
    "# l va servir à numéroter les labels : dans la boucle, l s'incrémente de 1 à chaque passage \n",
    "l = -1\n",
    "\n",
    "\n",
    "for x in tqdm(os.listdir(directory)):\n",
    "    # incrémentation de l\n",
    "    l = l +1\n",
    "    for y in os.listdir(directory + x +\"\\\\\"):\n",
    "        image = cv2.imread(directory + x +\"\\\\\"+y)\n",
    "        X_train.append(image)\n",
    "        y_train.append(l)"
   ]
  },
  {
   "cell_type": "markdown",
   "id": "fcc0e1bb",
   "metadata": {},
   "source": [
    "## Informations"
   ]
  },
  {
   "cell_type": "code",
   "execution_count": 19,
   "id": "edd7d806",
   "metadata": {},
   "outputs": [
    {
     "name": "stdout",
     "output_type": "stream",
     "text": [
      "classe : <class 'numpy.ndarray'>\n",
      "type : uint8\n",
      "taille : (60000, 28, 28, 3)\n",
      "modifiable : True\n"
     ]
    }
   ],
   "source": [
    "X_train = np.array(X_train)\n",
    "\n",
    "print( 'classe :', type(X_train) )\n",
    "print( 'type :', X_train.dtype )\n",
    "print( 'taille :', X_train.shape )\n",
    "print( 'modifiable :', X_train.flags.writeable )"
   ]
  },
  {
   "cell_type": "code",
   "execution_count": 20,
   "id": "824a3105",
   "metadata": {},
   "outputs": [],
   "source": [
    "# plt.imshow( liste_images[1] )\n",
    "# plt.show()"
   ]
  },
  {
   "cell_type": "markdown",
   "id": "ea1f8455",
   "metadata": {},
   "source": [
    "## Nuance de Gris"
   ]
  },
  {
   "cell_type": "code",
   "execution_count": 21,
   "id": "94ef5d05",
   "metadata": {},
   "outputs": [
    {
     "data": {
      "image/png": "[encoded data removed]",
      "text/plain": [
       "<Figure size 432x288 with 1 Axes>"
      ]
     },
     "metadata": {
      "needs_background": "light"
     },
     "output_type": "display_data"
    }
   ],
   "source": [
    "grey_image = cv2.cvtColor(X_train[1], cv2.COLOR_RGB2GRAY)\n",
    "plt.imshow(grey_image, cmap = 'Greys_r')\n",
    "plt.show()"
   ]
  },
  {
   "cell_type": "code",
   "execution_count": 22,
   "id": "2539e045",
   "metadata": {},
   "outputs": [
    {
     "name": "stderr",
     "output_type": "stream",
     "text": [
      "100%|████████████████████████████████████████████████████████████████████████| 60000/60000 [00:00<00:00, 164134.39it/s]\n"
     ]
    }
   ],
   "source": [
    "X_train_gris = []\n",
    "\n",
    "for x in tqdm(X_train):\n",
    "    grey_image = cv2.cvtColor(x, cv2.COLOR_RGB2GRAY)\n",
    "    X_train_gris.append(grey_image)\n",
    "        "
   ]
  },
  {
   "cell_type": "markdown",
   "id": "c573a94c",
   "metadata": {},
   "source": [
    "## Dossier \"testing\""
   ]
  },
  {
   "cell_type": "code",
   "execution_count": 23,
   "id": "da706124",
   "metadata": {},
   "outputs": [
    {
     "name": "stderr",
     "output_type": "stream",
     "text": [
      "100%|██████████████████████████████████████████████████████████████████████████████████| 10/10 [00:05<00:00,  1.99it/s]\n"
     ]
    }
   ],
   "source": [
    "directory = \".\\\\data\\\\MNIST_Dataset_JPG_format\\\\MNIST_JPG_testing\\\\\"\n",
    "\n",
    "X_test = []\n",
    "# liste pour enregistrer les labels\n",
    "y_test = []\n",
    "# l va servir à numéroter les labels : dans la boucle, l s'incrémente de 1 à chaque passage \n",
    "l = -1\n",
    "\n",
    "\n",
    "for x in tqdm(os.listdir(directory)):\n",
    "    # incrémentation de l\n",
    "    l = l +1\n",
    "    for y in os.listdir(directory + x +\"\\\\\"):\n",
    "        image = cv2.imread(directory + x +\"\\\\\"+y)\n",
    "        X_test.append(image)\n",
    "        y_test.append(l)"
   ]
  },
  {
   "cell_type": "code",
   "execution_count": 24,
   "id": "95f53ec3",
   "metadata": {},
   "outputs": [
    {
     "name": "stdout",
     "output_type": "stream",
     "text": [
      "classe : <class 'numpy.ndarray'>\n",
      "type : uint8\n",
      "taille : (10000, 28, 28, 3)\n",
      "modifiable : True\n"
     ]
    }
   ],
   "source": [
    "X_test = np.array(X_test)\n",
    "\n",
    "print( 'classe :', type(X_test) )\n",
    "print( 'type :', X_test.dtype )\n",
    "print( 'taille :', X_test.shape )\n",
    "print( 'modifiable :', X_test.flags.writeable )"
   ]
  },
  {
   "cell_type": "code",
   "execution_count": 25,
   "id": "d072e608",
   "metadata": {},
   "outputs": [
    {
     "name": "stderr",
     "output_type": "stream",
     "text": [
      "100%|████████████████████████████████████████████████████████████████████████| 10000/10000 [00:00<00:00, 144968.60it/s]\n"
     ]
    }
   ],
   "source": [
    "X_test_gris = []\n",
    "\n",
    "for x in tqdm(X_test):\n",
    "    grey_image = cv2.cvtColor(x, cv2.COLOR_RGB2GRAY)\n",
    "    X_test_gris.append(grey_image)"
   ]
  },
  {
   "cell_type": "markdown",
   "id": "67793985",
   "metadata": {},
   "source": [
    "---"
   ]
  },
  {
   "cell_type": "markdown",
   "id": "33618d89",
   "metadata": {},
   "source": [
    "## Normalisation des données "
   ]
  },
  {
   "cell_type": "code",
   "execution_count": 26,
   "id": "343bfcb5",
   "metadata": {},
   "outputs": [],
   "source": [
    "y_train = np.array(y_train)\n",
    "y_test = np.array(y_test)"
   ]
  },
  {
   "cell_type": "code",
   "execution_count": 27,
   "id": "9ab40111",
   "metadata": {},
   "outputs": [],
   "source": [
    "# Normalisation pixel (entre 0 et 1)\n",
    "X_train, X_test = X_train / 255.0, X_test / 255.0"
   ]
  },
  {
   "cell_type": "markdown",
   "id": "34915b1f",
   "metadata": {},
   "source": [
    "## Visualisation des données"
   ]
  },
  {
   "cell_type": "code",
   "execution_count": 28,
   "id": "2d4dbb98",
   "metadata": {},
   "outputs": [
    {
     "data": {
      "image/png": "[encoded data removed]",
      "text/plain": [
       "<Figure size 1440x288 with 10 Axes>"
      ]
     },
     "metadata": {
      "needs_background": "light"
     },
     "output_type": "display_data"
    }
   ],
   "source": [
    "# visualisation de quelques images\n",
    "fig, ax = plt.subplots(nrows=1, ncols=10, figsize=(20, 4))\n",
    "for i in range(10):\n",
    "  ax[i].imshow(X_train[i], cmap='gray')\n",
    "\n",
    "plt.tight_layout()\n",
    "plt.show()"
   ]
  },
  {
   "cell_type": "code",
   "execution_count": 29,
   "id": "b09883e1",
   "metadata": {},
   "outputs": [
    {
     "data": {
      "image/png": "[encoded data removed]",
      "text/plain": [
       "<Figure size 720x720 with 25 Axes>"
      ]
     },
     "metadata": {},
     "output_type": "display_data"
    }
   ],
   "source": [
    "plt.figure(figsize=(10,10))\n",
    "for i in range(25):\n",
    "    nbr = np.random.randint(0, 60000, [1])\n",
    "    plt.subplot(5,5,i+1)\n",
    "    plt.xticks([])\n",
    "    plt.yticks([])\n",
    "    plt.grid(False)\n",
    "    plt.imshow(X_train[nbr[0]])\n",
    "    # The CIFAR labels happen to be arrays, \n",
    "    # which is why you need the extra index\n",
    "    plt.xlabel(y_train[nbr[0]])\n",
    "plt.show()"
   ]
  },
  {
   "cell_type": "code",
   "execution_count": 30,
   "id": "bcd6a2b2",
   "metadata": {},
   "outputs": [
    {
     "name": "stdout",
     "output_type": "stream",
     "text": [
      "X_train: (60000, 28, 28, 3)\n",
      "Y_train: (60000,)\n",
      "X_test:  (10000, 28, 28, 3)\n",
      "Y_test:  (10000,)\n"
     ]
    }
   ],
   "source": [
    "print('X_train: ' + str(X_train.shape))\n",
    "print('Y_train: ' + str(y_train.shape))\n",
    "print('X_test:  '  + str(X_test.shape))\n",
    "print('Y_test:  '  + str(y_test.shape))"
   ]
  },
  {
   "cell_type": "code",
   "execution_count": 31,
   "id": "10105d64",
   "metadata": {},
   "outputs": [
    {
     "data": {
      "image/png": "[encoded data removed]",
      "text/plain": [
       "<Figure size 432x288 with 1 Axes>"
      ]
     },
     "metadata": {},
     "output_type": "display_data"
    }
   ],
   "source": [
    "import seaborn as sns\n",
    "\n",
    "# Visualisation de la répartition des labels\n",
    "sns.set(style='white', context='notebook', palette='deep')\n",
    "ax = sns.countplot(y_train)"
   ]
  },
  {
   "cell_type": "code",
   "execution_count": 32,
   "id": "5fdd0f5b",
   "metadata": {},
   "outputs": [],
   "source": [
    "# # 1. Split entre jeu d'entrainement et jeu de validation avec un ratio de 90/10\n",
    "# X_train, X_val, y_train, y_val = train_test_split(X_train, y_train, test_size=0.1, shuffle=False)"
   ]
  },
  {
   "cell_type": "code",
   "execution_count": 33,
   "id": "d5ad8580",
   "metadata": {},
   "outputs": [],
   "source": [
    "# # 2. Reshape des data pour les formatter en 28x28x1\n",
    "# X_train = X_train.values.reshape(-1, 28,28,1)\n",
    "# X_val = X_val.values.reshape(-1, 28,28,1)"
   ]
  },
  {
   "cell_type": "markdown",
   "id": "d69db3a6",
   "metadata": {},
   "source": [
    "---"
   ]
  },
  {
   "cell_type": "markdown",
   "id": "19ee5cd0",
   "metadata": {},
   "source": [
    "## Partie 2 : Architecture CNN sur Tensorflow"
   ]
  },
  {
   "cell_type": "code",
   "execution_count": 34,
   "id": "b45a1795",
   "metadata": {},
   "outputs": [],
   "source": [
    "from tensorflow import keras\n",
    "import tensorflow as tf\n",
    "from tensorflow.keras import datasets, layers, models\n",
    "import matplotlib.pyplot as plt\n",
    "\n",
    "# Configuration des couches du réseau\n",
    "# model = keras.Sequential([\n",
    "#     keras.layers.Flatten(input_shape=(28, 28)),\n",
    "#     keras.layers.Dense(128, activation='relu'),\n",
    "#     keras.layers.Dense(128, activation='relu'),\n",
    "#     keras.layers.Dense(10)\n",
    "# ])\n",
    "\n",
    "model = models.Sequential()\n",
    "model.add(layers.Conv2D(32, (3, 3), activation='relu', input_shape=(28, 28, 3)))\n",
    "model.add(layers.MaxPooling2D((2, 2)))\n",
    "model.add(layers.Conv2D(64, (3, 3), activation='relu'))\n",
    "model.add(layers.MaxPooling2D((2, 2)))\n",
    "model.add(layers.Conv2D(64, (3, 3), activation='relu'))"
   ]
  },
  {
   "cell_type": "code",
   "execution_count": 35,
   "id": "f2dc5efd",
   "metadata": {},
   "outputs": [
    {
     "name": "stdout",
     "output_type": "stream",
     "text": [
      "Model: \"sequential\"\n",
      "_________________________________________________________________\n",
      " Layer (type)                Output Shape              Param #   \n",
      "=================================================================\n",
      " conv2d (Conv2D)             (None, 26, 26, 32)        896       \n",
      "                                                                 \n",
      " max_pooling2d (MaxPooling2D  (None, 13, 13, 32)       0         \n",
      " )                                                               \n",
      "                                                                 \n",
      " conv2d_1 (Conv2D)           (None, 11, 11, 64)        18496     \n",
      "                                                                 \n",
      " max_pooling2d_1 (MaxPooling  (None, 5, 5, 64)         0         \n",
      " 2D)                                                             \n",
      "                                                                 \n",
      " conv2d_2 (Conv2D)           (None, 3, 3, 64)          36928     \n",
      "                                                                 \n",
      "=================================================================\n",
      "Total params: 56,320\n",
      "Trainable params: 56,320\n",
      "Non-trainable params: 0\n",
      "_________________________________________________________________\n"
     ]
    }
   ],
   "source": [
    "model.summary()"
   ]
  },
  {
   "cell_type": "code",
   "execution_count": 36,
   "id": "09d5670f",
   "metadata": {},
   "outputs": [],
   "source": [
    "model.add(layers.Flatten())\n",
    "model.add(layers.Dense(64, activation='relu'))\n",
    "model.add(layers.Dense(10, activation='sigmoid'))"
   ]
  },
  {
   "cell_type": "code",
   "execution_count": 37,
   "id": "bc3f223e",
   "metadata": {},
   "outputs": [
    {
     "name": "stdout",
     "output_type": "stream",
     "text": [
      "Model: \"sequential\"\n",
      "_________________________________________________________________\n",
      " Layer (type)                Output Shape              Param #   \n",
      "=================================================================\n",
      " conv2d (Conv2D)             (None, 26, 26, 32)        896       \n",
      "                                                                 \n",
      " max_pooling2d (MaxPooling2D  (None, 13, 13, 32)       0         \n",
      " )                                                               \n",
      "                                                                 \n",
      " conv2d_1 (Conv2D)           (None, 11, 11, 64)        18496     \n",
      "                                                                 \n",
      " max_pooling2d_1 (MaxPooling  (None, 5, 5, 64)         0         \n",
      " 2D)                                                             \n",
      "                                                                 \n",
      " conv2d_2 (Conv2D)           (None, 3, 3, 64)          36928     \n",
      "                                                                 \n",
      " flatten (Flatten)           (None, 576)               0         \n",
      "                                                                 \n",
      " dense (Dense)               (None, 64)                36928     \n",
      "                                                                 \n",
      " dense_1 (Dense)             (None, 10)                650       \n",
      "                                                                 \n",
      "=================================================================\n",
      "Total params: 93,898\n",
      "Trainable params: 93,898\n",
      "Non-trainable params: 0\n",
      "_________________________________________________________________\n"
     ]
    }
   ],
   "source": [
    "model.summary()"
   ]
  },
  {
   "cell_type": "markdown",
   "id": "7c336233",
   "metadata": {},
   "source": [
    "### Compilation et entraînement du modèle"
   ]
  },
  {
   "cell_type": "code",
   "execution_count": 38,
   "id": "3b05d5a3",
   "metadata": {},
   "outputs": [
    {
     "name": "stdout",
     "output_type": "stream",
     "text": [
      "Epoch 1/10\n"
     ]
    },
    {
     "name": "stderr",
     "output_type": "stream",
     "text": [
      "C:\\Users\\utilisateur\\anaconda3\\lib\\site-packages\\tensorflow\\python\\util\\dispatch.py:1082: UserWarning: \"`sparse_categorical_crossentropy` received `from_logits=True`, but the `output` argument was produced by a sigmoid or softmax activation and thus does not represent logits. Was this intended?\"\n",
      "  return dispatch_target(*args, **kwargs)\n"
     ]
    },
    {
     "name": "stdout",
     "output_type": "stream",
     "text": [
      "1875/1875 [==============================] - 41s 22ms/step - loss: 0.1392 - accuracy: 0.9561 - val_loss: 0.0602 - val_accuracy: 0.9811\n",
      "Epoch 2/10\n",
      "1875/1875 [==============================] - 42s 22ms/step - loss: 0.0460 - accuracy: 0.9863 - val_loss: 0.0502 - val_accuracy: 0.9841\n",
      "Epoch 3/10\n",
      "1875/1875 [==============================] - 41s 22ms/step - loss: 0.0337 - accuracy: 0.9896 - val_loss: 0.0305 - val_accuracy: 0.9906\n",
      "Epoch 4/10\n",
      "1875/1875 [==============================] - 43s 23ms/step - loss: 0.0251 - accuracy: 0.9923 - val_loss: 0.0307 - val_accuracy: 0.9899\n",
      "Epoch 5/10\n",
      "1875/1875 [==============================] - 42s 22ms/step - loss: 0.0201 - accuracy: 0.9933 - val_loss: 0.0311 - val_accuracy: 0.9910\n",
      "Epoch 6/10\n",
      "1875/1875 [==============================] - 41s 22ms/step - loss: 0.0156 - accuracy: 0.9947 - val_loss: 0.0378 - val_accuracy: 0.9896\n",
      "Epoch 7/10\n",
      "1875/1875 [==============================] - 41s 22ms/step - loss: 0.0148 - accuracy: 0.9952 - val_loss: 0.0317 - val_accuracy: 0.9908\n",
      "Epoch 8/10\n",
      "1875/1875 [==============================] - 42s 22ms/step - loss: 0.0118 - accuracy: 0.9961 - val_loss: 0.0324 - val_accuracy: 0.9922\n",
      "Epoch 9/10\n",
      "1875/1875 [==============================] - 51s 27ms/step - loss: 0.0101 - accuracy: 0.9966 - val_loss: 0.0307 - val_accuracy: 0.9921\n",
      "Epoch 10/10\n",
      "1875/1875 [==============================] - 49s 26ms/step - loss: 0.0089 - accuracy: 0.9972 - val_loss: 0.0351 - val_accuracy: 0.9914\n"
     ]
    }
   ],
   "source": [
    "# Compilation du modele\n",
    "# model.compile(optimizer='adam',\n",
    "#               loss= keras.losses.SparseCategoricalCrossentropy(from_logits=True),\n",
    "#               metrics=['accuracy'])\n",
    "\n",
    "# # Entrainement du modele\n",
    "# history = model.fit(X_train, y_train, epochs=10,validation_data=(X_test, y_test))\n",
    "\n",
    "model.compile(optimizer='adam',\n",
    "              loss=tf.keras.losses.SparseCategoricalCrossentropy(from_logits=True),\n",
    "              metrics=['accuracy'])\n",
    "\n",
    "history = model.fit(X_train, y_train, epochs=10,\n",
    "                    validation_data=(X_test, y_test))"
   ]
  },
  {
   "cell_type": "markdown",
   "id": "e682865d",
   "metadata": {},
   "source": [
    "### Evaluation du modèle"
   ]
  },
  {
   "cell_type": "code",
   "execution_count": 39,
   "id": "80e02235",
   "metadata": {},
   "outputs": [
    {
     "name": "stdout",
     "output_type": "stream",
     "text": [
      "313/313 [==============================] - 3s 10ms/step - loss: 0.0351 - accuracy: 0.9914\n",
      "Test accuracy: 0.9914000034332275\n"
     ]
    }
   ],
   "source": [
    "# Evaluation du modele\n",
    "test_loss, test_acc = model.evaluate(X_test,  y_test)\n",
    "print('Test accuracy:', test_acc)"
   ]
  },
  {
   "cell_type": "code",
   "execution_count": 40,
   "id": "bbf1abd4",
   "metadata": {},
   "outputs": [
    {
     "name": "stdout",
     "output_type": "stream",
     "text": [
      "313/313 [==============================] - 3s 9ms/step - loss: 0.0351 - accuracy: 0.9914\n"
     ]
    },
    {
     "data": {
      "image/png": "[encoded data removed]",
      "text/plain": [
       "<Figure size 432x288 with 1 Axes>"
      ]
     },
     "metadata": {},
     "output_type": "display_data"
    }
   ],
   "source": [
    "plt.plot(history.history['accuracy'], label='accuracy')\n",
    "plt.plot(history.history['val_accuracy'], label = 'val_accuracy')\n",
    "plt.xlabel('Epoch')\n",
    "plt.ylabel('Accuracy')\n",
    "plt.ylim([0.5, 1])\n",
    "plt.legend(loc='lower right')\n",
    "\n",
    "test_loss, test_acc = model.evaluate(X_test,  y_test)#, verbose=2)"
   ]
  },
  {
   "cell_type": "code",
   "execution_count": 41,
   "id": "f6ba2e54",
   "metadata": {},
   "outputs": [
    {
     "name": "stdout",
     "output_type": "stream",
     "text": [
      "[0 0 0 0 0 0 0 0 0 0]\n",
      "[0 0 0 0 0 0 0 0 0 0]\n"
     ]
    }
   ],
   "source": [
    "# modele prédictif (softmax)\n",
    "prediction_model = keras.Sequential([model, keras.layers.Softmax()])\n",
    "predict_proba = prediction_model.predict(X_test)\n",
    "predictions = np.argmax(predict_proba, axis=1)\n",
    "\n",
    "print(predictions[:10])\n",
    "print(y_test[:10])"
   ]
  },
  {
   "cell_type": "markdown",
   "id": "44af34b4",
   "metadata": {},
   "source": [
    "## Sauvegarde du modèle "
   ]
  },
  {
   "cell_type": "code",
   "execution_count": 42,
   "id": "e2849dd8",
   "metadata": {},
   "outputs": [
    {
     "name": "stdout",
     "output_type": "stream",
     "text": [
      "INFO:tensorflow:Assets written to: ./modelCNN\\assets\n"
     ]
    }
   ],
   "source": [
    "filepath='./modelCNN'\n",
    "tf.keras.models.save_model(model, filepath, overwrite=True,\n",
    "                           include_optimizer=True, save_format=None,\n",
    "                           signatures=None, options=None, save_traces=True)\n",
    "loaded_model = tf.keras.models.load_model(filepath)"
   ]
  },
  {
   "cell_type": "markdown",
   "id": "ae75968d",
   "metadata": {},
   "source": [
    "### Création de y (pour les mesures)"
   ]
  },
  {
   "cell_type": "code",
   "execution_count": 43,
   "id": "bb8ce3a2",
   "metadata": {},
   "outputs": [
    {
     "name": "stderr",
     "output_type": "stream",
     "text": [
      "100%|██████████████████████████████████████████████████████████████████████████████████| 10/10 [00:41<00:00,  4.10s/it]\n"
     ]
    }
   ],
   "source": [
    "\n",
    "\n",
    "directory = \".\\\\data\\\\MNIST_Dataset_JPG_format\\\\MNIST_JPG_training\\\\\"\n",
    "\n",
    "\n",
    "# liste pour enregistrer les labels\n",
    "y_train = []\n",
    "# l va servir à numéroter les labels : dans la boucle, l s'incrémente de 1 à chaque passage \n",
    "l = -1\n",
    "\n",
    "\n",
    "for x in tqdm(os.listdir(directory)):\n",
    "    # incrémentation de l\n",
    "    l = l +1\n",
    "    for y in os.listdir(directory + x +\"\\\\\"):\n",
    "        image = cv2.imread(directory + x +\"\\\\\"+y)\n",
    "        y_train.append(l)"
   ]
  },
  {
   "cell_type": "code",
   "execution_count": 44,
   "id": "3d44af01",
   "metadata": {},
   "outputs": [
    {
     "name": "stderr",
     "output_type": "stream",
     "text": [
      "100%|██████████████████████████████████████████████████████████████████████████████████| 10/10 [00:03<00:00,  3.30it/s]\n"
     ]
    }
   ],
   "source": [
    "directory = \".\\\\data\\\\MNIST_Dataset_JPG_format\\\\MNIST_JPG_testing\\\\\"\n",
    "\n",
    "\n",
    "# liste pour enregistrer les labels\n",
    "y_train = []\n",
    "# l va servir à numéroter les labels : dans la boucle, l s'incrémente de 1 à chaque passage \n",
    "l = -1\n",
    "\n",
    "\n",
    "for x in tqdm(os.listdir(directory)):\n",
    "    # incrémentation de l\n",
    "    l = l +1\n",
    "    for y in os.listdir(directory + x +\"\\\\\"):\n",
    "        image = cv2.imread(directory + x +\"\\\\\"+y)\n",
    "        y_train.append(l)"
   ]
  },
  {
   "cell_type": "markdown",
   "id": "407c0d06",
   "metadata": {},
   "source": [
    "### Accuracy score"
   ]
  },
  {
   "cell_type": "code",
   "execution_count": 45,
   "id": "dc378e74",
   "metadata": {},
   "outputs": [
    {
     "name": "stdout",
     "output_type": "stream",
     "text": [
      "L'accuraccy_score est de :  0.9902\n"
     ]
    }
   ],
   "source": [
    "from sklearn.metrics import accuracy_score\n",
    "\n",
    "#Generate predictions with the model using our X values\n",
    "\n",
    "y_pred = model.predict(X_test)\n",
    "y_true = np.argmax(y_pred,axis=1)\n",
    "\n",
    "y = y_train\n",
    "y=np.array(y)\n",
    "\n",
    "accuracy = accuracy_score(y, np.argmax(y_pred, axis=1))\n",
    "print(\"L'accuraccy_score est de : \", accuracy)"
   ]
  },
  {
   "cell_type": "markdown",
   "id": "2f63b4a3",
   "metadata": {},
   "source": [
    "### Classification report"
   ]
  },
  {
   "cell_type": "code",
   "execution_count": 46,
   "id": "56c372b0",
   "metadata": {},
   "outputs": [
    {
     "name": "stdout",
     "output_type": "stream",
     "text": [
      "              precision    recall  f1-score   support\n",
      "\n",
      "           0       0.99      1.00      1.00       980\n",
      "           1       0.99      1.00      0.99      1135\n",
      "           2       0.99      0.99      0.99      1032\n",
      "           3       1.00      0.99      0.99      1010\n",
      "           4       0.99      0.99      0.99       982\n",
      "           5       0.98      0.99      0.98       892\n",
      "           6       0.99      0.98      0.99       958\n",
      "           7       0.99      0.99      0.99      1028\n",
      "           8       0.99      0.99      0.99       974\n",
      "           9       0.99      0.98      0.99      1009\n",
      "\n",
      "    accuracy                           0.99     10000\n",
      "   macro avg       0.99      0.99      0.99     10000\n",
      "weighted avg       0.99      0.99      0.99     10000\n",
      "\n"
     ]
    }
   ],
   "source": [
    "import sklearn.metrics as metrics\n",
    "\n",
    "print(metrics.classification_report (y_test, y_true))"
   ]
  },
  {
   "cell_type": "markdown",
   "id": "601641e9",
   "metadata": {},
   "source": [
    "### Matrice de confusion"
   ]
  },
  {
   "cell_type": "code",
   "execution_count": 47,
   "id": "8726b03b",
   "metadata": {},
   "outputs": [
    {
     "name": "stdout",
     "output_type": "stream",
     "text": [
      "Confusion Matrix\n",
      "\n",
      "[[ 977    0    0    0    0    0    1    1    1    0]\n",
      " [   0 1134    0    0    0    1    0    0    0    0]\n",
      " [   0    2 1023    0    1    0    0    4    2    0]\n",
      " [   0    1    3  998    0    4    0    2    2    0]\n",
      " [   0    0    1    0  975    0    1    0    0    5]\n",
      " [   2    0    0    4    0  881    3    1    0    1]\n",
      " [   3    1    0    0    1   12  941    0    0    0]\n",
      " [   0    5    2    0    0    1    0 1014    0    6]\n",
      " [   0    1    2    0    0    0    1    2  967    1]\n",
      " [   1    1    0    0    7    3    0    1    4  992]]\n"
     ]
    }
   ],
   "source": [
    "#importing confusion matrix\n",
    "from sklearn.metrics import confusion_matrix\n",
    "confusion = confusion_matrix(y_test, y_true)\n",
    "print('Confusion Matrix\\n')\n",
    "print(confusion)"
   ]
  },
  {
   "cell_type": "code",
   "execution_count": 48,
   "id": "8a4f90e7",
   "metadata": {},
   "outputs": [
    {
     "data": {
      "text/plain": [
       "<AxesSubplot:>"
      ]
     },
     "execution_count": 48,
     "metadata": {},
     "output_type": "execute_result"
    },
    {
     "data": {
      "image/png": "[encoded data removed]",
      "text/plain": [
       "<Figure size 432x288 with 2 Axes>"
      ]
     },
     "metadata": {},
     "output_type": "display_data"
    }
   ],
   "source": [
    "import seaborn as sns\n",
    "sns.heatmap(confusion, annot=True, fmt=\"d\")"
   ]
  },
  {
   "cell_type": "markdown",
   "id": "96629b2a",
   "metadata": {},
   "source": [
    "## Partie 3 : Application"
   ]
  },
  {
   "cell_type": "code",
   "execution_count": 81,
   "id": "6a943165",
   "metadata": {},
   "outputs": [
    {
     "name": "stdout",
     "output_type": "stream",
     "text": [
      "['img_1.jpg', 'img_10.jpg', 'img_100.jpg', 'img_101.jpg', 'img_102.jpg', 'img_103.jpg', 'img_104.jpg', 'img_105.jpg', 'img_106.jpg', 'img_107.jpg', 'img_108.jpg', 'img_109.jpg', 'img_11.jpg', 'img_110.jpg', 'img_111.jpg', 'img_112.jpg', 'img_113.jpg', 'img_114.jpg', 'img_115.jpg', 'img_116.jpg', 'img_117.jpg', 'img_118.jpg', 'img_119.jpg', 'img_12.jpg', 'img_120.jpg', 'img_121.jpg', 'img_122.jpg', 'img_123.jpg', 'img_124.jpg', 'img_125.jpg', 'img_126.jpg', 'img_127.jpg', 'img_128.jpg', 'img_129.jpg', 'img_13.jpg', 'img_130.jpg', 'img_131.jpg', 'img_132.jpg', 'img_133.jpg', 'img_134.jpg', 'img_135.jpg', 'img_136.jpg', 'img_137.jpg', 'img_138.jpg', 'img_139.jpg', 'img_14.jpg', 'img_140.jpg', 'img_141.jpg', 'img_142.jpg', 'img_143.jpg', 'img_144.jpg', 'img_145.jpg', 'img_146.jpg', 'img_147.jpg', 'img_148.jpg', 'img_149.jpg', 'img_15.jpg', 'img_150.jpg', 'img_151.jpg', 'img_152.jpg', 'img_153.jpg', 'img_154.jpg', 'img_155.jpg', 'img_156.jpg', 'img_157.jpg', 'img_158.jpg', 'img_159.jpg', 'img_16.jpg', 'img_160.jpg', 'img_161.jpg', 'img_162.jpg', 'img_163.jpg', 'img_164.jpg', 'img_165.jpg', 'img_166.jpg', 'img_167.jpg', 'img_168.jpg', 'img_169.jpg', 'img_17.jpg', 'img_170.jpg', 'img_171.jpg', 'img_172.jpg', 'img_173.jpg', 'img_174.jpg', 'img_175.jpg', 'img_176.jpg', 'img_177.jpg', 'img_178.jpg', 'img_179.jpg', 'img_18.jpg', 'img_180.jpg', 'img_181.jpg', 'img_182.jpg', 'img_183.jpg', 'img_184.jpg', 'img_185.jpg', 'img_186.jpg', 'img_187.jpg', 'img_188.jpg', 'img_189.jpg', 'img_19.jpg', 'img_190.jpg', 'img_191.jpg', 'img_192.jpg', 'img_193.jpg', 'img_194.jpg', 'img_195.jpg', 'img_196.jpg', 'img_197.jpg', 'img_198.jpg', 'img_199.jpg', 'img_2.jpg', 'img_20.jpg', 'img_200.jpg', 'img_201.jpg', 'img_202.jpg', 'img_203.jpg', 'img_204.jpg', 'img_205.jpg', 'img_206.jpg', 'img_207.jpg', 'img_208.jpg', 'img_209.jpg', 'img_21.jpg', 'img_210.jpg', 'img_211.jpg', 'img_212.jpg', 'img_213.jpg', 'img_214.jpg', 'img_215.jpg', 'img_216.jpg', 'img_217.jpg', 'img_218.jpg', 'img_219.jpg', 'img_22.jpg', 'img_220.jpg', 'img_221.jpg', 'img_222.jpg', 'img_223.jpg', 'img_224.jpg', 'img_225.jpg', 'img_226.jpg', 'img_227.jpg', 'img_228.jpg', 'img_229.jpg', 'img_23.jpg', 'img_230.jpg', 'img_231.jpg', 'img_232.jpg', 'img_233.jpg', 'img_234.jpg', 'img_235.jpg', 'img_236.jpg', 'img_237.jpg', 'img_238.jpg', 'img_239.jpg', 'img_24.jpg', 'img_240.jpg', 'img_241.jpg', 'img_242.jpg', 'img_243.jpg', 'img_244.jpg', 'img_245.jpg', 'img_246.jpg', 'img_247.jpg', 'img_248.jpg', 'img_249.jpg', 'img_25.jpg', 'img_250.jpg', 'img_251.jpg', 'img_252.jpg', 'img_253.jpg', 'img_254.jpg', 'img_255.jpg', 'img_256.jpg', 'img_257.jpg', 'img_258.jpg', 'img_259.jpg', 'img_26.jpg', 'img_260.jpg', 'img_261.jpg', 'img_262.jpg', 'img_263.jpg', 'img_264.jpg', 'img_265.jpg', 'img_266.jpg', 'img_267.jpg', 'img_268.jpg', 'img_269.jpg', 'img_27.jpg', 'img_270.jpg', 'img_271.jpg', 'img_272.jpg', 'img_273.jpg', 'img_274.jpg', 'img_275.jpg', 'img_276.jpg', 'img_277.jpg', 'img_278.jpg', 'img_279.jpg', 'img_28.jpg', 'img_280.jpg', 'img_281.jpg', 'img_282.jpg', 'img_283.jpg', 'img_284.jpg', 'img_285.jpg', 'img_286.jpg', 'img_287.jpg', 'img_288.jpg', 'img_289.jpg', 'img_29.jpg', 'img_290.jpg', 'img_291.jpg', 'img_292.jpg', 'img_293.jpg', 'img_294.jpg', 'img_295.jpg', 'img_296.jpg', 'img_297.jpg', 'img_298.jpg', 'img_299.jpg', 'img_3.jpg', 'img_30.jpg', 'img_300.jpg', 'img_301.jpg', 'img_302.jpg', 'img_303.jpg', 'img_304.jpg', 'img_305.jpg', 'img_306.jpg', 'img_307.jpg', 'img_308.jpg', 'img_309.jpg', 'img_31.jpg', 'img_310.jpg', 'img_311.jpg', 'img_312.jpg', 'img_313.jpg', 'img_314.jpg', 'img_315.jpg', 'img_316.jpg', 'img_317.jpg', 'img_318.jpg', 'img_319.jpg', 'img_32.jpg', 'img_320.jpg', 'img_321.jpg', 'img_322.jpg', 'img_323.jpg', 'img_324.jpg', 'img_325.jpg', 'img_326.jpg', 'img_327.jpg', 'img_328.jpg', 'img_329.jpg', 'img_33.jpg', 'img_330.jpg', 'img_331.jpg', 'img_332.jpg', 'img_333.jpg', 'img_334.jpg', 'img_335.jpg', 'img_336.jpg', 'img_337.jpg', 'img_338.jpg', 'img_339.jpg', 'img_34.jpg', 'img_340.jpg', 'img_341.jpg', 'img_342.jpg', 'img_343.jpg', 'img_344.jpg', 'img_345.jpg', 'img_346.jpg', 'img_347.jpg', 'img_348.jpg', 'img_349.jpg', 'img_35.jpg', 'img_350.jpg', 'img_36.jpg', 'img_37.jpg', 'img_38.jpg', 'img_39.jpg', 'img_4.jpg', 'img_40.jpg', 'img_41.jpg', 'img_42.jpg', 'img_43.jpg', 'img_44.jpg', 'img_45.jpg', 'img_46.jpg', 'img_47.jpg', 'img_48.jpg', 'img_49.jpg', 'img_5.jpg', 'img_50.jpg', 'img_51.jpg', 'img_52.jpg', 'img_53.jpg', 'img_54.jpg', 'img_55.jpg', 'img_56.jpg', 'img_57.jpg', 'img_58.jpg', 'img_59.jpg', 'img_6.jpg', 'img_60.jpg', 'img_61.jpg', 'img_62.jpg', 'img_63.jpg', 'img_64.jpg', 'img_65.jpg', 'img_66.jpg', 'img_67.jpg', 'img_68.jpg', 'img_69.jpg', 'img_7.jpg', 'img_70.jpg', 'img_71.jpg', 'img_72.jpg', 'img_73.jpg', 'img_74.jpg', 'img_75.jpg', 'img_76.jpg', 'img_77.jpg', 'img_78.jpg', 'img_79.jpg', 'img_8.jpg', 'img_80.jpg', 'img_81.jpg', 'img_82.jpg', 'img_83.jpg', 'img_84.jpg', 'img_85.jpg', 'img_86.jpg', 'img_87.jpg', 'img_88.jpg', 'img_89.jpg', 'img_9.jpg', 'img_90.jpg', 'img_91.jpg', 'img_92.jpg', 'img_93.jpg', 'img_94.jpg', 'img_95.jpg', 'img_96.jpg', 'img_97.jpg', 'img_98.jpg', 'img_99.jpg', 'testSample']\n"
     ]
    }
   ],
   "source": [
    "chemin = \"./test_pictures/\"\n",
    "liste_test = os.listdir(chemin) \n",
    "print(liste_test)"
   ]
  },
  {
   "cell_type": "code",
   "execution_count": 82,
   "id": "b786f961",
   "metadata": {},
   "outputs": [
    {
     "name": "stdout",
     "output_type": "stream",
     "text": [
      "img_327.jpg\n"
     ]
    }
   ],
   "source": [
    "import random\n",
    "\n",
    "# choisi une image aléatoire à chaque fois\n",
    "rand = random.choice(liste_test)\n",
    "print(rand)"
   ]
  },
  {
   "cell_type": "code",
   "execution_count": 83,
   "id": "a38fb8c0",
   "metadata": {},
   "outputs": [
    {
     "name": "stdout",
     "output_type": "stream",
     "text": [
      "./test_pictures/img_327.jpg\n"
     ]
    }
   ],
   "source": [
    "# on décide du nouveau chemin de l'élément aléatoire\n",
    "route = \"./test_pictures/\" + rand\n",
    "print(route)"
   ]
  },
  {
   "cell_type": "code",
   "execution_count": 84,
   "id": "663cbb26",
   "metadata": {},
   "outputs": [
    {
     "data": {
      "image/png": "[encoded data removed]",
      "text/plain": [
       "<Figure size 144x144 with 1 Axes>"
      ]
     },
     "metadata": {},
     "output_type": "display_data"
    }
   ],
   "source": [
    "# on affiche l'élément aléatoire avec la variable route\n",
    "image = cv2.imread(route)\n",
    "\n",
    "plt.figure(figsize=(2,2))\n",
    "plt.subplot()\n",
    "plt.xticks([])\n",
    "plt.yticks([])\n",
    "plt.imshow(image)\n",
    "plt.show()"
   ]
  },
  {
   "cell_type": "markdown",
   "id": "493c0952",
   "metadata": {},
   "source": [
    "## On teste la prédiction "
   ]
  },
  {
   "cell_type": "code",
   "execution_count": 85,
   "id": "73f42baf",
   "metadata": {},
   "outputs": [],
   "source": [
    "## Formatage des images \n",
    "\n",
    "img_array = np.array(image)/255.0\n",
    "img = np.expand_dims(img_array, axis=0)\n"
   ]
  },
  {
   "cell_type": "code",
   "execution_count": 86,
   "id": "3bdfb2ce",
   "metadata": {},
   "outputs": [
    {
     "name": "stdout",
     "output_type": "stream",
     "text": [
      "Prédiction : 5\n"
     ]
    }
   ],
   "source": [
    "liste_label = ['0', '1', '2', '3', '4', '5', '6', '7', '8', '9']\n",
    "loaded_model = tf.keras.models.load_model(filepath)\n",
    "prediction = loaded_model.predict(img)\n",
    "\n",
    "resultat = liste_label[np.argmax(prediction)]\n",
    "print('Prédiction :',resultat)\n"
   ]
  },
  {
   "cell_type": "markdown",
   "id": "0dc44cb4",
   "metadata": {},
   "source": [
    "## Application fichier.py"
   ]
  },
  {
   "cell_type": "code",
   "execution_count": 87,
   "id": "29cda488",
   "metadata": {},
   "outputs": [
    {
     "data": {
      "image/png": "[encoded data removed]",
      "text/plain": [
       "<Figure size 144x144 with 1 Axes>"
      ]
     },
     "metadata": {},
     "output_type": "display_data"
    },
    {
     "name": "stdout",
     "output_type": "stream",
     "text": [
      "Prédiction : 8\n"
     ]
    }
   ],
   "source": [
    "%run test.py"
   ]
  }
 ],
 "metadata": {
  "kernelspec": {
   "display_name": "Python 3",
   "language": "python",
   "name": "python3"
  },
  "language_info": {
   "codemirror_mode": {
    "name": "ipython",
    "version": 3
   },
   "file_extension": ".py",
   "mimetype": "text/x-python",
   "name": "python",
   "nbconvert_exporter": "python",
   "pygments_lexer": "ipython3",
   "version": "3.8.3"
  }
 },
 "nbformat": 4,
 "nbformat_minor": 5
}
